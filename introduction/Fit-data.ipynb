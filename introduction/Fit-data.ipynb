{
 "cells": [
  {
   "cell_type": "markdown",
   "metadata": {},
   "source": [
    "# Load packages\n",
    "* Load ImpedanceFitter and Matplotlib for the visualization\n",
    "* Adjust the figure size because otherwise the plots are relatively small"
   ]
  },
  {
   "cell_type": "code",
   "execution_count": null,
   "metadata": {},
   "outputs": [],
   "source": [
    "import matplotlib.pyplot as plt\n",
    "\n",
    "import impedancefitter as ifit\n",
    "\n",
    "plt.rcParams[\"figure.figsize\"] = [15, 10]"
   ]
  },
  {
   "cell_type": "markdown",
   "metadata": {},
   "source": [
    "# Load data\n",
    "\n",
    "* Available file formats are listed here: https://impedancefitter.readthedocs.io/en/latest/examples/fileformats.html\n",
    "* We use two CSV files provided by Henning Bathel"
   ]
  },
  {
   "cell_type": "code",
   "execution_count": null,
   "metadata": {},
   "outputs": [],
   "source": [
    "fitter = ifit.Fitter(\"CSV\")"
   ]
  },
  {
   "cell_type": "markdown",
   "metadata": {},
   "source": [
    "The data is stored in dictionaries.\n",
    "There is the `omega_dict` saving the frequencies.\n",
    "It comprises only one list of frequencies per file."
   ]
  },
  {
   "cell_type": "code",
   "execution_count": null,
   "metadata": {},
   "outputs": [],
   "source": [
    "print(fitter.omega_dict.keys())\n",
    "print(fitter.omega_dict[\"impedance1V_10.csv\"].shape)"
   ]
  },
  {
   "cell_type": "markdown",
   "metadata": {},
   "source": [
    "The impedances are saved in the `z_dict`.\n",
    "It comprises a nested list containing multiple impedance lists.\n",
    "This is because multiple recordings can be read for the same frequencies from one file."
   ]
  },
  {
   "cell_type": "code",
   "execution_count": null,
   "metadata": {},
   "outputs": [],
   "source": [
    "print(fitter.z_dict.keys())\n",
    "print(fitter.z_dict[\"impedance1V_10.csv\"].shape)"
   ]
  },
  {
   "cell_type": "markdown",
   "metadata": {},
   "source": [
    "# Plot the data\n",
    "\n",
    "Show all files separately or enable the `allinone=True` option.\n",
    "You can also check other plottypes, for example, a Bode plot."
   ]
  },
  {
   "cell_type": "code",
   "execution_count": null,
   "metadata": {},
   "outputs": [],
   "source": [
    "fitter.visualize_data()"
   ]
  },
  {
   "cell_type": "code",
   "execution_count": null,
   "metadata": {},
   "outputs": [],
   "source": [
    "fitter.visualize_data(allinone=True)"
   ]
  },
  {
   "cell_type": "code",
   "execution_count": null,
   "metadata": {},
   "outputs": [],
   "source": [
    "fitter.visualize_data(allinone=True, plottype=\"bode\")"
   ]
  },
  {
   "cell_type": "markdown",
   "metadata": {},
   "source": [
    "# Check the data validity\n",
    "\n",
    "* The LinKK test is used\n",
    "* Here, we have relatively noisy data with strong capacitive behaviour at low frequencies\n",
    "* To see the error, we adjust the plot limits for the relative difference to +- 15%\n",
    "* To check the validity, we subsequently add a capacitance and inductance to the LinKK test"
   ]
  },
  {
   "cell_type": "code",
   "execution_count": null,
   "metadata": {},
   "outputs": [],
   "source": [
    "results, mus, residuals = fitter.linkk_test(limits=[-15, 15])"
   ]
  },
  {
   "cell_type": "code",
   "execution_count": null,
   "metadata": {},
   "outputs": [],
   "source": [
    "results, mus, residuals = fitter.linkk_test(capacitance=True, limits=[-15, 15])"
   ]
  },
  {
   "cell_type": "code",
   "execution_count": null,
   "metadata": {},
   "outputs": [],
   "source": [
    "results, mus, residuals = fitter.linkk_test(\n",
    "    capacitance=True, inductance=True, limits=[-15, 15]\n",
    ")"
   ]
  },
  {
   "cell_type": "code",
   "execution_count": null,
   "metadata": {},
   "outputs": [],
   "source": [
    "_, _, _ = fitter.linkk_test(capacitance=True, inductance=True, limits=[-10, 10], c=0.5)"
   ]
  },
  {
   "cell_type": "markdown",
   "metadata": {},
   "source": [
    "# Choosing a proper frequency range\n",
    "\n",
    "* The observed residual hints at valid data between $10^4$ and $5\\times10^6$ Hz and possibly a lead inductance\n",
    "* This hypothesis is in the following confirmed"
   ]
  },
  {
   "cell_type": "code",
   "execution_count": null,
   "metadata": {},
   "outputs": [],
   "source": [
    "fitter = ifit.Fitter(\"CSV\", minimumFrequency=1e4, maximumFrequency=5e6)"
   ]
  },
  {
   "cell_type": "code",
   "execution_count": null,
   "metadata": {},
   "outputs": [],
   "source": [
    "_, _, _ = fitter.linkk_test(capacitance=True, limits=[-10, 10], c=0.5)"
   ]
  },
  {
   "cell_type": "code",
   "execution_count": null,
   "metadata": {},
   "outputs": [],
   "source": [
    "_, _, _ = fitter.linkk_test(capacitance=True, inductance=True, limits=[-10, 10], c=0.5)"
   ]
  },
  {
   "cell_type": "markdown",
   "metadata": {},
   "source": [
    "# Fit the data\n",
    "\n",
    "* The hypothesis is that the model comprises a CPE in series with a resistance and an inductance\n",
    "* A corresponding model is formulated\n",
    "* A dictionary with initial guesses for the parameters is prepared"
   ]
  },
  {
   "cell_type": "code",
   "execution_count": null,
   "metadata": {},
   "outputs": [],
   "source": [
    "model = \"CPE + R + L\""
   ]
  },
  {
   "cell_type": "code",
   "execution_count": null,
   "metadata": {},
   "outputs": [],
   "source": [
    "parameters = {\n",
    "    \"R\": {\"value\": 55},\n",
    "    \"k\": {\"value\": 100},\n",
    "    \"alpha\": {\"value\": 0.8, \"min\": 0.6, \"max\": 0.9},\n",
    "    \"L\": {\"value\": 1e-9},\n",
    "}"
   ]
  },
  {
   "cell_type": "markdown",
   "metadata": {},
   "source": [
    "# Run the fit\n",
    "\n",
    "**Note**: \n",
    "* The `residual=\"absolute` option is chosen because the imaginary part tends to zero at higher frequencies.\n",
    "* The `weighting=\"modulus\"` option is chosen to equilibrate the error over the entire frequency range. Different weighting schemes are discussed in relevant textbooks.\n",
    "* Observe the fit report regarding the errors and correlations."
   ]
  },
  {
   "cell_type": "code",
   "execution_count": null,
   "metadata": {},
   "outputs": [],
   "source": [
    "fitter.run(\n",
    "    model,\n",
    "    parameters=parameters,\n",
    "    report=True,\n",
    "    show=True,\n",
    "    residual=\"absolute\",\n",
    "    weighting=\"modulus\",\n",
    ")"
   ]
  },
  {
   "cell_type": "markdown",
   "metadata": {},
   "source": [
    "# Postprocess the fit result\n",
    "\n",
    "* Define submodels of the actual model\n",
    "* Generate equivalent circuits to compute the impedance of the submodel\n",
    "* Use the fit result stored in the `fit_data` dictionary\n",
    "* The results are compared in different plots (should be self-explanatory)"
   ]
  },
  {
   "cell_type": "code",
   "execution_count": null,
   "metadata": {},
   "outputs": [],
   "source": [
    "modelR = \"R\"\n",
    "modelCPE = \"CPE\"\n",
    "modelLR = \"R + L\""
   ]
  },
  {
   "cell_type": "code",
   "execution_count": null,
   "metadata": {},
   "outputs": [],
   "source": [
    "ecmR = ifit.get_equivalent_circuit_model(modelR)\n",
    "ecmCPE = ifit.get_equivalent_circuit_model(modelCPE)\n",
    "ecmLR = ifit.get_equivalent_circuit_model(modelLR)"
   ]
  },
  {
   "cell_type": "code",
   "execution_count": null,
   "metadata": {},
   "outputs": [],
   "source": [
    "omega = fitter.omega_dict[\"impedance1V_10.csv\"]"
   ]
  },
  {
   "cell_type": "code",
   "execution_count": null,
   "metadata": {},
   "outputs": [],
   "source": [
    "ZR = ecmR.eval(omega=omega, **fitter.fit_data[\"impedance1V_10.csv_0\"])\n",
    "ZCPE = ecmCPE.eval(omega=omega, **fitter.fit_data[\"impedance1V_10.csv_0\"])\n",
    "ZLR = ecmLR.eval(omega=omega, **fitter.fit_data[\"impedance1V_10.csv_0\"])"
   ]
  },
  {
   "cell_type": "code",
   "execution_count": null,
   "metadata": {},
   "outputs": [],
   "source": [
    "ifit.plot_impedance(omega, ZR, labels=[\"R\", \"\", \"\"], append=True, show=False)\n",
    "ifit.plot_impedance(omega, ZCPE, labels=[\"CPE\", \"\", \"\"], append=True, show=False)\n",
    "ifit.plot_impedance(\n",
    "    omega, ZCPE + ZR, labels=[\"CPE + R\", \"\", \"\"], append=True, show=False\n",
    ")\n",
    "ifit.plot_impedance(omega, ZLR, labels=[\"LR\", \"\", \"\"])"
   ]
  },
  {
   "cell_type": "code",
   "execution_count": null,
   "metadata": {},
   "outputs": [],
   "source": [
    "ifit.plot_impedance(omega, ZR, Z_comp=ZLR, labels=[\"R\", \"\", \"LR\"])"
   ]
  },
  {
   "cell_type": "code",
   "execution_count": null,
   "metadata": {},
   "outputs": [],
   "source": []
  }
 ],
 "metadata": {
  "kernelspec": {
   "display_name": "Python 3",
   "language": "python",
   "name": "python3"
  },
  "language_info": {
   "codemirror_mode": {
    "name": "ipython",
    "version": 3
   },
   "file_extension": ".py",
   "mimetype": "text/x-python",
   "name": "python",
   "nbconvert_exporter": "python",
   "pygments_lexer": "ipython3",
   "version": "3.8.10"
  }
 },
 "nbformat": 4,
 "nbformat_minor": 4
}
