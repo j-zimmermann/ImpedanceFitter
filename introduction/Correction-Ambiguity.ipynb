{
 "cells": [
  {
   "cell_type": "markdown",
   "metadata": {},
   "source": [
    "# Correction of tissue dielectric properties\n",
    "\n",
    "This notebook shows how to perform the correction described in our paper: https://doi.org/10.1016/j.bioelechem.2021.107773\n",
    "Here, only grey matter as an exemplary type of tissue is considered."
   ]
  },
  {
   "cell_type": "markdown",
   "metadata": {},
   "source": [
    "# Load packages\n",
    "* Load ImpedanceFitter and Matplotlib for the visualization\n",
    "* Adjust the figure size because otherwise the plots are relatively small\n",
    "* Load json for import of data and numpy to perform data operations\n",
    "* Load deepcopy to copy a dictionary"
   ]
  },
  {
   "cell_type": "code",
   "execution_count": null,
   "metadata": {},
   "outputs": [],
   "source": [
    "import json\n",
    "from copy import deepcopy\n",
    "\n",
    "import matplotlib.pyplot as plt\n",
    "import numpy as np\n",
    "\n",
    "import impedancefitter as ifit\n",
    "\n",
    "plt.rcParams[\"figure.figsize\"] = [15, 10]"
   ]
  },
  {
   "cell_type": "markdown",
   "metadata": {},
   "source": [
    "# Define the models\n",
    "\n",
    "* `ColeCole4` for original model with four Cole-Cole dispersions\n",
    "* `ColeCole3` for model omitting the slowest dispersion"
   ]
  },
  {
   "cell_type": "code",
   "execution_count": null,
   "metadata": {},
   "outputs": [],
   "source": [
    "modelcc4 = \"ColeCole4\"\n",
    "modelcc3 = \"ColeCole3\""
   ]
  },
  {
   "cell_type": "markdown",
   "metadata": {},
   "source": [
    "# Load the tissue properties\n",
    "\n",
    "* The model parameters can be found online: http://niremf.ifac.cnr.it/docs/DIELECTRIC/AppendixC.html#Sum\n",
    "* Please note that some parameters (`alf1,2,3,4`) are not used as in the online resource but instead `a1,2,3,4=1-alf1,2,3,4`\n",
    "* The model parameters are stored in a JSON file and loaded\n",
    "* To be compatible with ImpedanceFitter, a unit capacitance of 1 pF has been chosen"
   ]
  },
  {
   "cell_type": "code",
   "execution_count": null,
   "metadata": {},
   "outputs": [],
   "source": [
    "with open(\"greymattercolecole4gabriel.json\") as stream:\n",
    "    resultcc4 = json.load(stream)"
   ]
  },
  {
   "cell_type": "code",
   "execution_count": null,
   "metadata": {},
   "outputs": [],
   "source": [
    "resultcc4"
   ]
  },
  {
   "cell_type": "markdown",
   "metadata": {},
   "source": [
    "# Choose a frequency range"
   ]
  },
  {
   "cell_type": "code",
   "execution_count": null,
   "metadata": {},
   "outputs": [],
   "source": [
    "frequencies = np.logspace(1, 7)\n",
    "omega = 2.0 * np.pi * frequencies"
   ]
  },
  {
   "cell_type": "markdown",
   "metadata": {},
   "source": [
    "# Copy the original parameters and adjust\n",
    "\n",
    "* A new dictionary is created (`resultcc3`), which is a copy of the dictionary containing the original parameters\n",
    "* The conductivity `sigma` is adjusted\n",
    "* Evaluate the impedance and plot the impedance as well as the dielectric properties"
   ]
  },
  {
   "cell_type": "code",
   "execution_count": null,
   "metadata": {},
   "outputs": [],
   "source": [
    "ecmcc4 = ifit.get_equivalent_circuit_model(modelcc4)\n",
    "ecmcc3 = ifit.get_equivalent_circuit_model(modelcc3)\n",
    "resultcc3 = deepcopy(resultcc4)\n",
    "resultcc3[\"sigma\"] = 0.1"
   ]
  },
  {
   "cell_type": "code",
   "execution_count": null,
   "metadata": {},
   "outputs": [],
   "source": [
    "Zcc4 = ecmcc4.eval(omega=omega, **resultcc4)\n",
    "Zcc3 = ecmcc3.eval(omega=omega, **resultcc3)"
   ]
  },
  {
   "cell_type": "code",
   "execution_count": null,
   "metadata": {},
   "outputs": [],
   "source": [
    "ifit.plot_impedance(omega, Zcc4, Z_comp=Zcc3)"
   ]
  },
  {
   "cell_type": "markdown",
   "metadata": {},
   "source": [
    "**Note**: The plot takes the unit capacitance in F! So you have to multiply with $10^{-12}$ to convert from pF to F."
   ]
  },
  {
   "cell_type": "code",
   "execution_count": null,
   "metadata": {},
   "outputs": [],
   "source": [
    "ifit.plot_dielectric_properties(omega, Zcc4, resultcc4[\"c0\"] * 1e-12, Z_comp=Zcc3)"
   ]
  },
  {
   "cell_type": "code",
   "execution_count": null,
   "metadata": {},
   "outputs": [],
   "source": []
  }
 ],
 "metadata": {
  "kernelspec": {
   "display_name": "Python 3",
   "language": "python",
   "name": "python3"
  },
  "language_info": {
   "codemirror_mode": {
    "name": "ipython",
    "version": 3
   },
   "file_extension": ".py",
   "mimetype": "text/x-python",
   "name": "python",
   "nbconvert_exporter": "python",
   "pygments_lexer": "ipython3",
   "version": "3.8.10"
  }
 },
 "nbformat": 4,
 "nbformat_minor": 4
}
