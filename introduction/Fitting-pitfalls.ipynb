{
 "cells": [
  {
   "cell_type": "markdown",
   "metadata": {},
   "source": [
    "# Load packages\n",
    "* Load ImpedanceFitter and Matplotlib for the visualization\n",
    "* Adjust the figure size because otherwise the plots are relatively small"
   ]
  },
  {
   "cell_type": "code",
   "execution_count": null,
   "metadata": {},
   "outputs": [],
   "source": [
    "import matplotlib.pyplot as plt\n",
    "\n",
    "import impedancefitter as ifit\n",
    "\n",
    "plt.rcParams[\"figure.figsize\"] = [15, 10]"
   ]
  },
  {
   "cell_type": "markdown",
   "metadata": {},
   "source": [
    "# Import data\n",
    "* Use the data in the previously found optimal frequency range"
   ]
  },
  {
   "cell_type": "code",
   "execution_count": null,
   "metadata": {},
   "outputs": [],
   "source": [
    "fitter = ifit.Fitter(\"CSV\", minimumFrequency=1e4, maximumFrequency=5e6)"
   ]
  },
  {
   "cell_type": "markdown",
   "metadata": {},
   "source": [
    "# Define an ambiguous model\n",
    "\n",
    "* We add a second resistor in series. This resistor is superfluous.\n",
    "* A resistor parallel to the CPE is introduced. It is not expected to have a big influence."
   ]
  },
  {
   "cell_type": "code",
   "execution_count": null,
   "metadata": {},
   "outputs": [],
   "source": [
    "model = \"parallel(CPE, R_f3) + R_f1 + R_f2 + L\""
   ]
  },
  {
   "cell_type": "code",
   "execution_count": null,
   "metadata": {},
   "outputs": [],
   "source": [
    "parameters = {\n",
    "    \"f1_R\": {\"value\": 20},\n",
    "    \"f2_R\": {\"value\": 20},\n",
    "    \"f3_R\": {\"value\": 1e6},\n",
    "    \"k\": {\"value\": 100},\n",
    "    \"alpha\": {\"value\": 0.8, \"min\": 0.6, \"max\": 0.9},\n",
    "    \"L\": {\"value\": 1e-9},\n",
    "}"
   ]
  },
  {
   "cell_type": "markdown",
   "metadata": {},
   "source": [
    "## Run the fit\n",
    "\n",
    "### Observations\n",
    "* The fit does not look too bad\n",
    "* **But**: The fitting errors are huge. The resistances `f1_R` and `f2_R` are linearly correlated (as expected). For the second file, their correlation cannot be estimated.\n",
    "* A second solver (Nelder-Mead) is used. However, the fit does not get better and the fit errors stay large."
   ]
  },
  {
   "cell_type": "code",
   "execution_count": null,
   "metadata": {},
   "outputs": [],
   "source": [
    "fitter.run(\n",
    "    model,\n",
    "    parameters=parameters,\n",
    "    report=True,\n",
    "    show=True,\n",
    "    residual=\"absolute\",\n",
    "    weighting=\"modulus\",\n",
    ")"
   ]
  },
  {
   "cell_type": "code",
   "execution_count": null,
   "metadata": {},
   "outputs": [],
   "source": [
    "# use different solver\n",
    "solver = \"nelder\"\n",
    "fitter.run(\n",
    "    model,\n",
    "    parameters=parameters,\n",
    "    residual=\"absolute\",\n",
    "    solver=solver,\n",
    "    report=True,\n",
    "    show=True,\n",
    ")"
   ]
  },
  {
   "cell_type": "markdown",
   "metadata": {},
   "source": [
    "# Fixing the fit\n",
    "\n",
    "* A parameter value can be set to a fixed value. This usually fixes the problem in the case of correlated parameters or parameters that do not influence the impedance.\n",
    "* A meaningful range for the parameter value can be defined.\n",
    "* The `f3_R` parameter is still superfluous but has no significant impact on the fitter performance. It could be removed from the circuit (as indicated by the relatively high uncertainty). Plotting the model without this parameter could also help to understand its significance.\n"
   ]
  },
  {
   "cell_type": "code",
   "execution_count": null,
   "metadata": {},
   "outputs": [],
   "source": [
    "parameters = {\n",
    "    \"f1_R\": {\"value\": 55},\n",
    "    \"f2_R\": {\"value\": 0, \"vary\": False},\n",
    "    \"f3_R\": {\"value\": 1e6},\n",
    "    \"k\": {\"value\": 100},\n",
    "    \"alpha\": {\"value\": 0.8, \"min\": 0.6, \"max\": 0.9},\n",
    "    \"L\": {\"value\": 1e-9},\n",
    "}"
   ]
  },
  {
   "cell_type": "code",
   "execution_count": null,
   "metadata": {},
   "outputs": [],
   "source": [
    "fitter.run(\n",
    "    model,\n",
    "    parameters=parameters,\n",
    "    report=True,\n",
    "    show=True,\n",
    "    residual=\"absolute\",\n",
    "    weighting=\"modulus\",\n",
    ")"
   ]
  },
  {
   "cell_type": "code",
   "execution_count": null,
   "metadata": {},
   "outputs": [],
   "source": [
    "# use different solver\n",
    "solver = \"nelder\"\n",
    "fitter.run(\n",
    "    model,\n",
    "    parameters=parameters,\n",
    "    residual=\"absolute\",\n",
    "    solver=solver,\n",
    "    report=True,\n",
    "    show=True,\n",
    ")"
   ]
  },
  {
   "cell_type": "code",
   "execution_count": null,
   "metadata": {},
   "outputs": [],
   "source": []
  }
 ],
 "metadata": {
  "kernelspec": {
   "display_name": "Python 3",
   "language": "python",
   "name": "python3"
  },
  "language_info": {
   "codemirror_mode": {
    "name": "ipython",
    "version": 3
   },
   "file_extension": ".py",
   "mimetype": "text/x-python",
   "name": "python",
   "nbconvert_exporter": "python",
   "pygments_lexer": "ipython3",
   "version": "3.8.10"
  }
 },
 "nbformat": 4,
 "nbformat_minor": 4
}
