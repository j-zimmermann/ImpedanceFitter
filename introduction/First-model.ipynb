{
 "cells": [
  {
   "cell_type": "markdown",
   "metadata": {},
   "source": [
    "# Load packages\n",
    "* Load ImpedanceFitter and Matplotlib for the visualization\n",
    "* Adjust the figure size because otherwise the plots are relatively small"
   ]
  },
  {
   "cell_type": "code",
   "execution_count": null,
   "metadata": {},
   "outputs": [],
   "source": [
    "import matplotlib.pyplot as plt\n",
    "\n",
    "import impedancefitter as ifit\n",
    "\n",
    "plt.rcParams[\"figure.figsize\"] = [15, 10]"
   ]
  },
  {
   "cell_type": "markdown",
   "metadata": {},
   "source": [
    "# Define a circuit\n",
    "\n",
    "**Attention**:\n",
    "If there are two variables with the same name, make sure to add suffixes separated by an underscore.\n",
    "They need to start with a letter.\n",
    "Here, this applies to `R_s` and `R_ct`.\n"
   ]
  },
  {
   "cell_type": "code",
   "execution_count": null,
   "metadata": {},
   "outputs": [],
   "source": [
    "model = \"R_s + parallel(R_ct + W, C)\""
   ]
  },
  {
   "cell_type": "markdown",
   "metadata": {},
   "source": [
    "# Draw a scheme of the circuit\n",
    "\n",
    "Unfortunately, this does not appear to work in a Jupyter environment.\n",
    "Thus, the scheme is saved.\n",
    "Please check the working directory after executing and you will find a file\n",
    "named `scheme.svg`.\n",
    "In a regular Python script, the scheme is shwon in a pop-up window."
   ]
  },
  {
   "cell_type": "code",
   "execution_count": null,
   "metadata": {},
   "outputs": [],
   "source": [
    "ifit.draw_scheme(model, save=True)"
   ]
  },
  {
   "cell_type": "markdown",
   "metadata": {},
   "source": [
    "# Augment the circuit\n",
    "Add another loop to the circuit and observe how the scheme changes."
   ]
  },
  {
   "cell_type": "code",
   "execution_count": null,
   "metadata": {},
   "outputs": [],
   "source": [
    "model = \"R_s + parallel(R_ct + W, parallel(C, L))\""
   ]
  },
  {
   "cell_type": "code",
   "execution_count": null,
   "metadata": {},
   "outputs": [],
   "source": [
    "ifit.draw_scheme(model, save=True)"
   ]
  },
  {
   "cell_type": "markdown",
   "metadata": {},
   "source": [
    "# Back to the original model"
   ]
  },
  {
   "cell_type": "code",
   "execution_count": null,
   "metadata": {},
   "outputs": [],
   "source": [
    "model = \"R_s + parallel(R_ct + W, C)\""
   ]
  },
  {
   "cell_type": "markdown",
   "metadata": {},
   "source": [
    "## Generate an equivalent circuit model.\n",
    "This is needed to compute the impedance."
   ]
  },
  {
   "cell_type": "code",
   "execution_count": null,
   "metadata": {},
   "outputs": [],
   "source": [
    "lmfit_model = ifit.get_equivalent_circuit_model(model)"
   ]
  },
  {
   "cell_type": "markdown",
   "metadata": {},
   "source": [
    "# Import numpy.\n",
    "The frequencies are stored in a numpy array.\n",
    "Also, the impedances will be stored in a numpy array."
   ]
  },
  {
   "cell_type": "code",
   "execution_count": null,
   "metadata": {},
   "outputs": [],
   "source": [
    "import numpy as np"
   ]
  },
  {
   "cell_type": "code",
   "execution_count": null,
   "metadata": {},
   "outputs": [],
   "source": [
    "frequencies = np.logspace(0, 8)"
   ]
  },
  {
   "cell_type": "markdown",
   "metadata": {},
   "source": [
    "# Insert parameter values\n",
    "\n",
    "Please note that the suffix becomes the prefix here.\n",
    "This is due to LMFIT."
   ]
  },
  {
   "cell_type": "code",
   "execution_count": null,
   "metadata": {},
   "outputs": [],
   "source": [
    "Rct = 100.0\n",
    "Rs = 20.0\n",
    "Aw = 300.0\n",
    "C0 = 25e-6\n",
    "Z1 = lmfit_model.eval(omega=2.0 * np.pi * frequencies, ct_R=Rct, s_R=Rs, C=C0, Aw=Aw)"
   ]
  },
  {
   "cell_type": "code",
   "execution_count": null,
   "metadata": {},
   "outputs": [],
   "source": [
    "ifit.plot_impedance(2.0 * np.pi * frequencies, Z1)"
   ]
  },
  {
   "cell_type": "markdown",
   "metadata": {},
   "source": [
    "# Compare to a pre-defined circuit\n",
    "\n",
    "Actually, the previously defined circuit is the Randles circuit.\n",
    "This circuit has already been implemented in ImpedanceFitter.\n",
    "\n",
    "An overview of the available circuits can be found here: https://impedancefitter.readthedocs.io/en/latest/circuits.html\n",
    "\n",
    "The parameters of the Randles circuit are also specified there: https://impedancefitter.readthedocs.io/en/latest/circuits.html#impedancefitter.randles.Z_randles"
   ]
  },
  {
   "cell_type": "code",
   "execution_count": null,
   "metadata": {},
   "outputs": [],
   "source": [
    "model = \"Randles\"\n",
    "lmfit_model = ifit.get_equivalent_circuit_model(model)\n",
    "Z = lmfit_model.eval(omega=2.0 * np.pi * frequencies, Rct=Rct, Rs=Rs, C0=C0, Aw=Aw)"
   ]
  },
  {
   "cell_type": "markdown",
   "metadata": {},
   "source": [
    "# Plot the impedance\n",
    "\n",
    "The impedance of the self-defined and the pre-defined circuit can be compared.\n",
    "**Note**: The labels can easily be customized."
   ]
  },
  {
   "cell_type": "code",
   "execution_count": null,
   "metadata": {},
   "outputs": [],
   "source": [
    "ifit.plot_impedance(\n",
    "    2.0 * np.pi * frequencies, Z, Z_fit=Z1, labels=[\"Data\", \"Try\", \"Init fit\"]\n",
    ")"
   ]
  },
  {
   "cell_type": "markdown",
   "metadata": {},
   "source": [
    "An unusual choice is to plot the impedance on a log-scale.\n",
    "However, it might help with impedances that change significantly with the frequency."
   ]
  },
  {
   "cell_type": "code",
   "execution_count": null,
   "metadata": {},
   "outputs": [],
   "source": [
    "ifit.plot_impedance(\n",
    "    2.0 * np.pi * frequencies,\n",
    "    Z,\n",
    "    Z_fit=Z1,\n",
    "    labels=[\"Data\", \"Try\", \"Init fit\"],\n",
    "    Zlog=True,\n",
    ")"
   ]
  },
  {
   "cell_type": "markdown",
   "metadata": {},
   "source": [
    "If you have multiple frequencies, you can also append data to an existing plot."
   ]
  },
  {
   "cell_type": "code",
   "execution_count": null,
   "metadata": {},
   "outputs": [],
   "source": [
    "ifit.plot_impedance(2.0 * np.pi * frequencies, Z, append=True, show=False)\n",
    "ifit.plot_impedance(2.0 * np.pi * frequencies, Z1)"
   ]
  },
  {
   "cell_type": "markdown",
   "metadata": {},
   "source": [
    "To compute the dielectric properties, you need to define a unit capacitance `c0`."
   ]
  },
  {
   "cell_type": "code",
   "execution_count": null,
   "metadata": {},
   "outputs": [],
   "source": [
    "c0 = 1e-12\n",
    "ifit.plot_dielectric_properties(2.0 * np.pi * frequencies, Z, c0)"
   ]
  },
  {
   "cell_type": "code",
   "execution_count": null,
   "metadata": {},
   "outputs": [],
   "source": []
  }
 ],
 "metadata": {
  "kernelspec": {
   "display_name": "Python 3",
   "language": "python",
   "name": "python3"
  },
  "language_info": {
   "codemirror_mode": {
    "name": "ipython",
    "version": 3
   },
   "file_extension": ".py",
   "mimetype": "text/x-python",
   "name": "python",
   "nbconvert_exporter": "python",
   "pygments_lexer": "ipython3",
   "version": "3.8.10"
  }
 },
 "nbformat": 4,
 "nbformat_minor": 4
}
